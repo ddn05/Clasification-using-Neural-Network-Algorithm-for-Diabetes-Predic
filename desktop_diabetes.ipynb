{
 "cells": [
  {
   "cell_type": "code",
   "execution_count": null,
   "metadata": {},
   "outputs": [],
   "source": [
    "from PyQt5.QtWidgets import *\n",
    "from PyQt5 import uic\n",
    "import pickle\n",
    "import numpy as np\n",
    "import sklearn\n",
    "\n",
    "with open('NN_diabetes','rb') as r:\n",
    "    model = pickle.load(r)\n",
    "    \n",
    "def diabetes():\n",
    "    banyakMelahirkan = float(window.input_melahirkan.text())\n",
    "    kadarGlukosa     = float(window.input_glukosa.text())\n",
    "    kadarDarah       = float(window.input_darah.text())\n",
    "    ketebalanKulit   = float(window.input_kulit.text())\n",
    "    kadarInsulin     = float(window.input_insulin.text())\n",
    "    bmi              = float(window.input_bmi.text())\n",
    "    derajatRiwayat   = float(window.input_riwayat.text())\n",
    "    umur             = float(window.input_umur.text())\n",
    "    \n",
    "    dataPasien = np.array((banyakMelahirkan, kadarGlukosa, kadarDarah, ketebalanKulit, kadarInsulin, bmi, derajatRiwayat, umur))\n",
    "    data = np.reshape(dataPasien,(1,-1))\n",
    "                          \n",
    "    isDiabetes = model.predict(data)\n",
    "    \n",
    "    if(isDiabetes == 1):\n",
    "            window.label_simpulan.setText('POSITIF DIABETES')\n",
    "    elif(isDiabetes == 0):\n",
    "            window.label_simpulan.setText('POSITIF DIABETES')\n",
    "\n",
    "app = QApplication([])\n",
    "window = QMainWindow()\n",
    "uic.loadUi('DiabetesDekstop.ui',window)\n",
    "window.setWindowTitle('Deteksi Diabetes')\n",
    "window.show()\n",
    "window.button_prediksi.clicked.connect(diabetes)\n",
    "        \n",
    "app.exec()"
   ]
  },
  {
   "cell_type": "code",
   "execution_count": null,
   "metadata": {},
   "outputs": [],
   "source": []
  }
 ],
 "metadata": {
  "kernelspec": {
   "display_name": "Python 3",
   "language": "python",
   "name": "python3"
  },
  "language_info": {
   "codemirror_mode": {
    "name": "ipython",
    "version": 3
   },
   "file_extension": ".py",
   "mimetype": "text/x-python",
   "name": "python",
   "nbconvert_exporter": "python",
   "pygments_lexer": "ipython3",
   "version": "3.7.7"
  }
 },
 "nbformat": 4,
 "nbformat_minor": 4
}
