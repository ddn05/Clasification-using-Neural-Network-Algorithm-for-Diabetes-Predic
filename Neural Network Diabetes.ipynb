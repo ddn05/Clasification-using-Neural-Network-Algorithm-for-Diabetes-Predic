{
 "cells": [
  {
   "cell_type": "code",
   "execution_count": null,
   "metadata": {},
   "outputs": [],
   "source": [
    "import pandas as pd\n",
    "import numpy as np\n",
    "\n",
    "df = pd.read_csv('./diabetes_latih.csv')\n",
    "\n",
    "X_train = df.values\n",
    "X_train = np.delete(X_train,8,axis=1)\n",
    "\n",
    "y_train = df['Outcome'].values\n",
    "\n",
    "df = pd.read_csv('./diabetes_uji.csv')\n",
    "\n",
    "X_test = df.values\n",
    "X_test = np.delete(X_test,8,axis=1)\n",
    "\n",
    "y_test = df['Outcome'].values"
   ]
  },
  {
   "cell_type": "code",
   "execution_count": 25,
   "metadata": {},
   "outputs": [
    {
     "name": "stdout",
     "output_type": "stream",
     "text": [
      "[[0.47058824 0.94472362 0.68421053 ... 0.71385991 0.02519214 0.36666667]\n",
      " [0.41176471 0.7638191  0.77192982 ... 0.74515648 0.11058924 0.25      ]\n",
      " [0.11764706 0.49748744 0.45614035 ... 0.36661699 0.23868488 0.        ]\n",
      " ...\n",
      " [0.29411765 0.6080402  0.63157895 ... 0.390462   0.07130658 0.15      ]\n",
      " [0.05882353 0.63316583 0.52631579 ... 0.4485842  0.11571307 0.43333333]\n",
      " [0.05882353 0.46733668 0.61403509 ... 0.45305514 0.10119556 0.03333333]]\n"
     ]
    }
   ],
   "source": [
    "from sklearn.preprocessing import MinMaxScaler\n",
    "\n",
    "X_train = MinMaxScaler().fit_transform(X_train)\n",
    "X_test = MinMaxScaler().fit_transform(X_test)\n",
    "\n",
    "print(X_train)"
   ]
  },
  {
   "cell_type": "code",
   "execution_count": null,
   "metadata": {},
   "outputs": [],
   "source": [
    "from sklearn.neural_network import MLPClassifier\n",
    "\n",
    "clf = MLPClassifier(hidden_layer_sizes=3,learning_rate_init=0.1,max_iter=100)\n",
    "\n",
    "clf.fit(X_train, y_train)"
   ]
  },
  {
   "cell_type": "code",
   "execution_count": null,
   "metadata": {},
   "outputs": [],
   "source": [
    "y_pred = clf.predict(X_test)"
   ]
  },
  {
   "cell_type": "code",
   "execution_count": 26,
   "metadata": {},
   "outputs": [
    {
     "data": {
      "text/plain": [
       "0.76"
      ]
     },
     "execution_count": 26,
     "metadata": {},
     "output_type": "execute_result"
    }
   ],
   "source": [
    "from sklearn.metrics import accuracy_score\n",
    "\n",
    "round(accuracy_score(y_test,y_pred),3)"
   ]
  },
  {
   "cell_type": "code",
   "execution_count": null,
   "metadata": {},
   "outputs": [],
   "source": [
    "df.info()"
   ]
  },
  {
   "cell_type": "code",
   "execution_count": 27,
   "metadata": {},
   "outputs": [],
   "source": [
    "import pickle\n",
    "\n",
    "with open('NND_pickle','wb') as r:\n",
    "    pickle.dump(clf,r)"
   ]
  },
  {
   "cell_type": "code",
   "execution_count": 28,
   "metadata": {},
   "outputs": [],
   "source": [
    "with open('NND_pickle','rb') as r:\n",
    "    nndp = pickle.load(r)"
   ]
  },
  {
   "cell_type": "code",
   "execution_count": 29,
   "metadata": {},
   "outputs": [
    {
     "data": {
      "text/plain": [
       "0.76"
      ]
     },
     "execution_count": 29,
     "metadata": {},
     "output_type": "execute_result"
    }
   ],
   "source": [
    "from sklearn.metrics import accuracy_score\n",
    "\n",
    "y_pred = nndp.predict(X_test)\n",
    "round(accuracy_score(y_test,y_pred),3)"
   ]
  },
  {
   "cell_type": "code",
   "execution_count": 30,
   "metadata": {},
   "outputs": [
    {
     "name": "stdout",
     "output_type": "stream",
     "text": [
      "[1 0 1 0 1 0 0 1 1 0 0 1 1 1 1 1 0 0 0 0 0 1 1 0 1 1 1 0 1 0 1 1 0 0 1 0 1\n",
      " 1 0 1 1 1 0 1 1 1 1 0 0 0 0 0 0 1 1 0 1 0 1 0 0 1 0 0 1 0 0 1 0 0 0 0 1 0\n",
      " 0 0 0 0 1 0 0 0 0 0 1 0 1 0 1 0 0 0 0 1 0 1 0 0 0 0 1 0 0 0 0 0 0 1 0 0 1\n",
      " 1 0 0 1 1 1 0 0 0 1 0 0 1 0 1 1 0 0 1 1 1 1 0 0 0 0 0 0 0 1 0 0 1 0 0 0 1\n",
      " 1 0 0 0 1 1]\n"
     ]
    }
   ],
   "source": [
    "print(y_pred)"
   ]
  },
  {
   "cell_type": "code",
   "execution_count": null,
   "metadata": {},
   "outputs": [],
   "source": []
  }
 ],
 "metadata": {
  "kernelspec": {
   "display_name": "Python 3",
   "language": "python",
   "name": "python3"
  },
  "language_info": {
   "codemirror_mode": {
    "name": "ipython",
    "version": 3
   },
   "file_extension": ".py",
   "mimetype": "text/x-python",
   "name": "python",
   "nbconvert_exporter": "python",
   "pygments_lexer": "ipython3",
   "version": "3.7.7"
  }
 },
 "nbformat": 4,
 "nbformat_minor": 4
}
